{
 "cells": [
  {
   "cell_type": "markdown",
   "id": "8731a1bd",
   "metadata": {},
   "source": [
    "# Load packages and data\n"
   ]
  },
  {
   "cell_type": "code",
   "execution_count": 503,
   "id": "8f8c2105",
   "metadata": {},
   "outputs": [
    {
     "name": "stdout",
     "output_type": "stream",
     "text": [
      "Collecting package metadata (current_repodata.json): done\n",
      "Solving environment: done\n",
      "\n",
      "# All requested packages already installed.\n",
      "\n",
      "\n",
      "Note: you may need to restart the kernel to use updated packages.\n"
     ]
    }
   ],
   "source": [
    "conda update conda"
   ]
  },
  {
   "cell_type": "code",
   "execution_count": 506,
   "id": "a3b10501",
   "metadata": {},
   "outputs": [
    {
     "name": "stdout",
     "output_type": "stream",
     "text": [
      "Collecting package metadata (current_repodata.json): done\n",
      "Solving environment: done\n",
      "\n",
      "## Package Plan ##\n",
      "\n",
      "  environment location: /opt/anaconda3\n",
      "\n",
      "  added / updated specs:\n",
      "    - scikit-learn\n",
      "\n",
      "\n",
      "The following packages will be downloaded:\n",
      "\n",
      "    package                    |            build\n",
      "    ---------------------------|-----------------\n",
      "    conda-4.11.0               |   py38h50d1736_0        16.9 MB  conda-forge\n",
      "    python_abi-3.8             |           2_cp38           4 KB  conda-forge\n",
      "    ------------------------------------------------------------\n",
      "                                           Total:        16.9 MB\n",
      "\n",
      "The following NEW packages will be INSTALLED:\n",
      "\n",
      "  python_abi         conda-forge/osx-64::python_abi-3.8-2_cp38\n",
      "\n",
      "The following packages will be SUPERSEDED by a higher-priority channel:\n",
      "\n",
      "  conda              pkgs/main::conda-4.11.0-py38hecd8cb5_0 --> conda-forge::conda-4.11.0-py38h50d1736_0\n",
      "\n",
      "\n",
      "\n",
      "Downloading and Extracting Packages\n",
      "python_abi-3.8       | 4 KB      | ##################################### | 100% \n",
      "conda-4.11.0         | 16.9 MB   | ##################################### | 100% \n",
      "Preparing transaction: done\n",
      "Verifying transaction: done\n",
      "Executing transaction: done\n",
      "\n",
      "Note: you may need to restart the kernel to use updated packages.\n"
     ]
    }
   ],
   "source": [
    "conda install -c conda-forge scikit-learn"
   ]
  },
  {
   "cell_type": "code",
   "execution_count": 43,
   "id": "dcbd86ec",
   "metadata": {},
   "outputs": [
    {
     "name": "stdout",
     "output_type": "stream",
     "text": [
      "Collecting scikit-learn==1.0.2\n",
      "  Downloading scikit_learn-1.0.2-cp38-cp38-macosx_10_13_x86_64.whl (7.9 MB)\n",
      "\u001b[K     |████████████████████████████████| 7.9 MB 4.1 MB/s eta 0:00:01\n",
      "\u001b[?25hRequirement already satisfied: numpy>=1.14.6 in /opt/anaconda3/lib/python3.8/site-packages (from scikit-learn==1.0.2) (1.20.1)\n",
      "Requirement already satisfied: joblib>=0.11 in /opt/anaconda3/lib/python3.8/site-packages (from scikit-learn==1.0.2) (1.0.1)\n",
      "Requirement already satisfied: threadpoolctl>=2.0.0 in /opt/anaconda3/lib/python3.8/site-packages (from scikit-learn==1.0.2) (2.1.0)\n",
      "Requirement already satisfied: scipy>=1.1.0 in /opt/anaconda3/lib/python3.8/site-packages (from scikit-learn==1.0.2) (1.6.2)\n",
      "Installing collected packages: scikit-learn\n",
      "  Attempting uninstall: scikit-learn\n",
      "    Found existing installation: scikit-learn 0.24.1\n",
      "    Uninstalling scikit-learn-0.24.1:\n",
      "      Successfully uninstalled scikit-learn-0.24.1\n",
      "Successfully installed scikit-learn-1.0.2\n"
     ]
    }
   ],
   "source": [
    "!pip install scikit-learn==1.0.2"
   ]
  },
  {
   "cell_type": "code",
   "execution_count": 482,
   "id": "cedac494",
   "metadata": {},
   "outputs": [],
   "source": [
    "# import the required libraries\n",
    "\n",
    "# base libraries\n",
    "import os\n",
    "\n",
    "# Visualization\n",
    "import matplotlib.pyplot as plt\n",
    "%matplotlib inline\n",
    "import seaborn as sns\n",
    "\n",
    "\n",
    "# Data manipulation\n",
    "import numpy as np\n",
    "import pandas as pd\n",
    "\n",
    "# Data Pre-processing and transformation\n",
    "from sklearn.model_selection import train_test_split\n",
    "from sklearn.impute import SimpleImputer\n",
    "from sklearn.preprocessing import OneHotEncoder\n",
    "from functools import reduce\n",
    "\n",
    "# do not print warnings\n",
    "import warnings\n",
    "warnings.filterwarnings(\"ignore\")"
   ]
  },
  {
   "cell_type": "code",
   "execution_count": 515,
   "id": "0fbd7e3e",
   "metadata": {},
   "outputs": [],
   "source": [
    "company = pd.read_csv(\"company_information.csv\")\n",
    "signup = pd.read_csv(\"ga_signup_information.csv\")"
   ]
  },
  {
   "cell_type": "code",
   "execution_count": 516,
   "id": "6fa9e29f",
   "metadata": {},
   "outputs": [
    {
     "data": {
      "text/plain": [
       "company_id                                    0\n",
       "app_user                                      0\n",
       "ever_contacted_support                        0\n",
       "subscription_status                         339\n",
       "left_trustpilot_review                        0\n",
       "minutes_activity_last_7_days_mobile           0\n",
       "minutes_activity_last_7_days_desktop          0\n",
       "minutes_activity_last_7_days_all_devices      0\n",
       "dtype: int64"
      ]
     },
     "execution_count": 516,
     "metadata": {},
     "output_type": "execute_result"
    }
   ],
   "source": [
    "company.isnull().sum()"
   ]
  },
  {
   "cell_type": "code",
   "execution_count": 517,
   "id": "9d8f227d",
   "metadata": {},
   "outputs": [
    {
     "data": {
      "text/plain": [
       "company_id                 0\n",
       "free_trial_signup_date     0\n",
       "google_analytics_medium    0\n",
       "dtype: int64"
      ]
     },
     "execution_count": 517,
     "metadata": {},
     "output_type": "execute_result"
    }
   ],
   "source": [
    "signup.isnull().sum()"
   ]
  },
  {
   "cell_type": "code",
   "execution_count": 518,
   "id": "fdcbc60d",
   "metadata": {},
   "outputs": [
    {
     "name": "stdout",
     "output_type": "stream",
     "text": [
      "(6299, 8) (6087, 3)\n"
     ]
    }
   ],
   "source": [
    "print(company.shape, signup.shape)"
   ]
  },
  {
   "cell_type": "code",
   "execution_count": 519,
   "id": "ccb176b6",
   "metadata": {},
   "outputs": [
    {
     "data": {
      "text/html": [
       "<div>\n",
       "<style scoped>\n",
       "    .dataframe tbody tr th:only-of-type {\n",
       "        vertical-align: middle;\n",
       "    }\n",
       "\n",
       "    .dataframe tbody tr th {\n",
       "        vertical-align: top;\n",
       "    }\n",
       "\n",
       "    .dataframe thead th {\n",
       "        text-align: right;\n",
       "    }\n",
       "</style>\n",
       "<table border=\"1\" class=\"dataframe\">\n",
       "  <thead>\n",
       "    <tr style=\"text-align: right;\">\n",
       "      <th></th>\n",
       "      <th>company_id</th>\n",
       "      <th>app_user</th>\n",
       "      <th>ever_contacted_support</th>\n",
       "      <th>subscription_status</th>\n",
       "      <th>left_trustpilot_review</th>\n",
       "      <th>minutes_activity_last_7_days_mobile</th>\n",
       "      <th>minutes_activity_last_7_days_desktop</th>\n",
       "      <th>minutes_activity_last_7_days_all_devices</th>\n",
       "    </tr>\n",
       "  </thead>\n",
       "  <tbody>\n",
       "    <tr>\n",
       "      <th>0</th>\n",
       "      <td>17729840</td>\n",
       "      <td>True</td>\n",
       "      <td>False</td>\n",
       "      <td>Cancelled</td>\n",
       "      <td>True</td>\n",
       "      <td>0</td>\n",
       "      <td>0</td>\n",
       "      <td>0</td>\n",
       "    </tr>\n",
       "    <tr>\n",
       "      <th>1</th>\n",
       "      <td>17711836</td>\n",
       "      <td>True</td>\n",
       "      <td>True</td>\n",
       "      <td>Subscribed</td>\n",
       "      <td>False</td>\n",
       "      <td>0</td>\n",
       "      <td>0</td>\n",
       "      <td>0</td>\n",
       "    </tr>\n",
       "    <tr>\n",
       "      <th>2</th>\n",
       "      <td>17712950</td>\n",
       "      <td>True</td>\n",
       "      <td>True</td>\n",
       "      <td>Subscribed</td>\n",
       "      <td>False</td>\n",
       "      <td>35</td>\n",
       "      <td>0</td>\n",
       "      <td>35</td>\n",
       "    </tr>\n",
       "    <tr>\n",
       "      <th>3</th>\n",
       "      <td>17723760</td>\n",
       "      <td>False</td>\n",
       "      <td>True</td>\n",
       "      <td>Subscribed</td>\n",
       "      <td>False</td>\n",
       "      <td>0</td>\n",
       "      <td>0</td>\n",
       "      <td>0</td>\n",
       "    </tr>\n",
       "    <tr>\n",
       "      <th>4</th>\n",
       "      <td>17713380</td>\n",
       "      <td>False</td>\n",
       "      <td>True</td>\n",
       "      <td>Subscribed</td>\n",
       "      <td>False</td>\n",
       "      <td>2</td>\n",
       "      <td>0</td>\n",
       "      <td>13</td>\n",
       "    </tr>\n",
       "  </tbody>\n",
       "</table>\n",
       "</div>"
      ],
      "text/plain": [
       "   company_id  app_user  ever_contacted_support subscription_status  \\\n",
       "0    17729840      True                   False           Cancelled   \n",
       "1    17711836      True                    True          Subscribed   \n",
       "2    17712950      True                    True          Subscribed   \n",
       "3    17723760     False                    True          Subscribed   \n",
       "4    17713380     False                    True          Subscribed   \n",
       "\n",
       "   left_trustpilot_review  minutes_activity_last_7_days_mobile  \\\n",
       "0                    True                                    0   \n",
       "1                   False                                    0   \n",
       "2                   False                                   35   \n",
       "3                   False                                    0   \n",
       "4                   False                                    2   \n",
       "\n",
       "   minutes_activity_last_7_days_desktop  \\\n",
       "0                                     0   \n",
       "1                                     0   \n",
       "2                                     0   \n",
       "3                                     0   \n",
       "4                                     0   \n",
       "\n",
       "   minutes_activity_last_7_days_all_devices  \n",
       "0                                         0  \n",
       "1                                         0  \n",
       "2                                        35  \n",
       "3                                         0  \n",
       "4                                        13  "
      ]
     },
     "execution_count": 519,
     "metadata": {},
     "output_type": "execute_result"
    }
   ],
   "source": [
    "company.head()"
   ]
  },
  {
   "cell_type": "code",
   "execution_count": 520,
   "id": "365a5a9b",
   "metadata": {},
   "outputs": [
    {
     "name": "stdout",
     "output_type": "stream",
     "text": [
      "<class 'pandas.core.frame.DataFrame'>\n",
      "RangeIndex: 6299 entries, 0 to 6298\n",
      "Data columns (total 8 columns):\n",
      " #   Column                                    Non-Null Count  Dtype \n",
      "---  ------                                    --------------  ----- \n",
      " 0   company_id                                6299 non-null   int64 \n",
      " 1   app_user                                  6299 non-null   bool  \n",
      " 2   ever_contacted_support                    6299 non-null   bool  \n",
      " 3   subscription_status                       5960 non-null   object\n",
      " 4   left_trustpilot_review                    6299 non-null   bool  \n",
      " 5   minutes_activity_last_7_days_mobile       6299 non-null   int64 \n",
      " 6   minutes_activity_last_7_days_desktop      6299 non-null   int64 \n",
      " 7   minutes_activity_last_7_days_all_devices  6299 non-null   int64 \n",
      "dtypes: bool(3), int64(4), object(1)\n",
      "memory usage: 264.6+ KB\n"
     ]
    }
   ],
   "source": [
    "company.info()"
   ]
  },
  {
   "cell_type": "code",
   "execution_count": 521,
   "id": "2f9634a5",
   "metadata": {},
   "outputs": [
    {
     "name": "stdout",
     "output_type": "stream",
     "text": [
      "<class 'pandas.core.frame.DataFrame'>\n",
      "RangeIndex: 6087 entries, 0 to 6086\n",
      "Data columns (total 3 columns):\n",
      " #   Column                   Non-Null Count  Dtype \n",
      "---  ------                   --------------  ----- \n",
      " 0   company_id               6087 non-null   int64 \n",
      " 1   free_trial_signup_date   6087 non-null   object\n",
      " 2   google_analytics_medium  6087 non-null   object\n",
      "dtypes: int64(1), object(2)\n",
      "memory usage: 142.8+ KB\n"
     ]
    }
   ],
   "source": [
    "signup.info()"
   ]
  },
  {
   "cell_type": "code",
   "execution_count": 522,
   "id": "8edce17a",
   "metadata": {},
   "outputs": [
    {
     "data": {
      "text/html": [
       "<div>\n",
       "<style scoped>\n",
       "    .dataframe tbody tr th:only-of-type {\n",
       "        vertical-align: middle;\n",
       "    }\n",
       "\n",
       "    .dataframe tbody tr th {\n",
       "        vertical-align: top;\n",
       "    }\n",
       "\n",
       "    .dataframe thead th {\n",
       "        text-align: right;\n",
       "    }\n",
       "</style>\n",
       "<table border=\"1\" class=\"dataframe\">\n",
       "  <thead>\n",
       "    <tr style=\"text-align: right;\">\n",
       "      <th></th>\n",
       "      <th>company_id</th>\n",
       "      <th>free_trial_signup_date</th>\n",
       "      <th>google_analytics_medium</th>\n",
       "    </tr>\n",
       "  </thead>\n",
       "  <tbody>\n",
       "    <tr>\n",
       "      <th>0</th>\n",
       "      <td>17711836</td>\n",
       "      <td>2020-11-02</td>\n",
       "      <td>cpc</td>\n",
       "    </tr>\n",
       "    <tr>\n",
       "      <th>1</th>\n",
       "      <td>17712950</td>\n",
       "      <td>2020-11-08</td>\n",
       "      <td>cpc</td>\n",
       "    </tr>\n",
       "    <tr>\n",
       "      <th>2</th>\n",
       "      <td>17723760</td>\n",
       "      <td>2020-12-12</td>\n",
       "      <td>(none)</td>\n",
       "    </tr>\n",
       "    <tr>\n",
       "      <th>3</th>\n",
       "      <td>17713380</td>\n",
       "      <td>2020-11-09</td>\n",
       "      <td>cpc</td>\n",
       "    </tr>\n",
       "    <tr>\n",
       "      <th>4</th>\n",
       "      <td>17724228</td>\n",
       "      <td>2020-12-13</td>\n",
       "      <td>email</td>\n",
       "    </tr>\n",
       "  </tbody>\n",
       "</table>\n",
       "</div>"
      ],
      "text/plain": [
       "   company_id free_trial_signup_date google_analytics_medium\n",
       "0    17711836             2020-11-02                     cpc\n",
       "1    17712950             2020-11-08                     cpc\n",
       "2    17723760             2020-12-12                  (none)\n",
       "3    17713380             2020-11-09                     cpc\n",
       "4    17724228             2020-12-13                   email"
      ]
     },
     "execution_count": 522,
     "metadata": {},
     "output_type": "execute_result"
    }
   ],
   "source": [
    "signup.head()"
   ]
  },
  {
   "cell_type": "code",
   "execution_count": 523,
   "id": "abd7cfeb",
   "metadata": {},
   "outputs": [
    {
     "name": "stdout",
     "output_type": "stream",
     "text": [
      "<class 'pandas.core.frame.DataFrame'>\n",
      "RangeIndex: 6087 entries, 0 to 6086\n",
      "Data columns (total 3 columns):\n",
      " #   Column                   Non-Null Count  Dtype \n",
      "---  ------                   --------------  ----- \n",
      " 0   company_id               6087 non-null   int64 \n",
      " 1   free_trial_signup_date   6087 non-null   object\n",
      " 2   google_analytics_medium  6087 non-null   object\n",
      "dtypes: int64(1), object(2)\n",
      "memory usage: 142.8+ KB\n"
     ]
    }
   ],
   "source": [
    "signup.info()"
   ]
  },
  {
   "cell_type": "markdown",
   "id": "8435c1f1",
   "metadata": {},
   "source": [
    "# Merging"
   ]
  },
  {
   "cell_type": "code",
   "execution_count": 524,
   "id": "3063fb75",
   "metadata": {},
   "outputs": [
    {
     "name": "stdout",
     "output_type": "stream",
     "text": [
      "(6087, 10)\n",
      "(6087, 10)\n"
     ]
    }
   ],
   "source": [
    "# merging both dataframes \n",
    "df = company.merge(signup,on='company_id', how='inner')\n",
    "\n",
    "# inspect the dimensions of our new combined dataset and drop any duplicates\n",
    "print(df.shape)\n",
    "df.drop_duplicates(keep ='first', inplace = True)\n",
    "print(df.shape)"
   ]
  },
  {
   "cell_type": "code",
   "execution_count": 525,
   "id": "1999db07",
   "metadata": {},
   "outputs": [
    {
     "data": {
      "text/plain": [
       "company_id                                    0\n",
       "app_user                                      0\n",
       "ever_contacted_support                        0\n",
       "subscription_status                         339\n",
       "left_trustpilot_review                        0\n",
       "minutes_activity_last_7_days_mobile           0\n",
       "minutes_activity_last_7_days_desktop          0\n",
       "minutes_activity_last_7_days_all_devices      0\n",
       "free_trial_signup_date                        0\n",
       "google_analytics_medium                       0\n",
       "dtype: int64"
      ]
     },
     "execution_count": 525,
     "metadata": {},
     "output_type": "execute_result"
    }
   ],
   "source": [
    "df.isnull().sum()"
   ]
  },
  {
   "cell_type": "code",
   "execution_count": 526,
   "id": "dd9833c2",
   "metadata": {},
   "outputs": [],
   "source": [
    "df.dropna(inplace=True)"
   ]
  },
  {
   "cell_type": "code",
   "execution_count": 527,
   "id": "779e1a95",
   "metadata": {},
   "outputs": [
    {
     "data": {
      "text/html": [
       "<div>\n",
       "<style scoped>\n",
       "    .dataframe tbody tr th:only-of-type {\n",
       "        vertical-align: middle;\n",
       "    }\n",
       "\n",
       "    .dataframe tbody tr th {\n",
       "        vertical-align: top;\n",
       "    }\n",
       "\n",
       "    .dataframe thead th {\n",
       "        text-align: right;\n",
       "    }\n",
       "</style>\n",
       "<table border=\"1\" class=\"dataframe\">\n",
       "  <thead>\n",
       "    <tr style=\"text-align: right;\">\n",
       "      <th></th>\n",
       "      <th>company_id</th>\n",
       "      <th>app_user</th>\n",
       "      <th>ever_contacted_support</th>\n",
       "      <th>subscription_status</th>\n",
       "      <th>left_trustpilot_review</th>\n",
       "      <th>minutes_activity_last_7_days_mobile</th>\n",
       "      <th>minutes_activity_last_7_days_desktop</th>\n",
       "      <th>minutes_activity_last_7_days_all_devices</th>\n",
       "      <th>google_analytics_medium</th>\n",
       "      <th>month</th>\n",
       "      <th>year</th>\n",
       "      <th>day_of_week</th>\n",
       "    </tr>\n",
       "  </thead>\n",
       "  <tbody>\n",
       "    <tr>\n",
       "      <th>0</th>\n",
       "      <td>17711836</td>\n",
       "      <td>True</td>\n",
       "      <td>True</td>\n",
       "      <td>Subscribed</td>\n",
       "      <td>False</td>\n",
       "      <td>0</td>\n",
       "      <td>0</td>\n",
       "      <td>0</td>\n",
       "      <td>cpc</td>\n",
       "      <td>11</td>\n",
       "      <td>2020</td>\n",
       "      <td>0</td>\n",
       "    </tr>\n",
       "    <tr>\n",
       "      <th>1</th>\n",
       "      <td>17712950</td>\n",
       "      <td>True</td>\n",
       "      <td>True</td>\n",
       "      <td>Subscribed</td>\n",
       "      <td>False</td>\n",
       "      <td>35</td>\n",
       "      <td>0</td>\n",
       "      <td>35</td>\n",
       "      <td>cpc</td>\n",
       "      <td>11</td>\n",
       "      <td>2020</td>\n",
       "      <td>6</td>\n",
       "    </tr>\n",
       "    <tr>\n",
       "      <th>2</th>\n",
       "      <td>17723760</td>\n",
       "      <td>False</td>\n",
       "      <td>True</td>\n",
       "      <td>Subscribed</td>\n",
       "      <td>False</td>\n",
       "      <td>0</td>\n",
       "      <td>0</td>\n",
       "      <td>0</td>\n",
       "      <td>(none)</td>\n",
       "      <td>12</td>\n",
       "      <td>2020</td>\n",
       "      <td>5</td>\n",
       "    </tr>\n",
       "    <tr>\n",
       "      <th>3</th>\n",
       "      <td>17713380</td>\n",
       "      <td>False</td>\n",
       "      <td>True</td>\n",
       "      <td>Subscribed</td>\n",
       "      <td>False</td>\n",
       "      <td>2</td>\n",
       "      <td>0</td>\n",
       "      <td>13</td>\n",
       "      <td>cpc</td>\n",
       "      <td>11</td>\n",
       "      <td>2020</td>\n",
       "      <td>0</td>\n",
       "    </tr>\n",
       "    <tr>\n",
       "      <th>4</th>\n",
       "      <td>17724228</td>\n",
       "      <td>False</td>\n",
       "      <td>False</td>\n",
       "      <td>Subscribed</td>\n",
       "      <td>False</td>\n",
       "      <td>0</td>\n",
       "      <td>0</td>\n",
       "      <td>0</td>\n",
       "      <td>email</td>\n",
       "      <td>12</td>\n",
       "      <td>2020</td>\n",
       "      <td>6</td>\n",
       "    </tr>\n",
       "  </tbody>\n",
       "</table>\n",
       "</div>"
      ],
      "text/plain": [
       "   company_id  app_user  ever_contacted_support subscription_status  \\\n",
       "0    17711836      True                    True          Subscribed   \n",
       "1    17712950      True                    True          Subscribed   \n",
       "2    17723760     False                    True          Subscribed   \n",
       "3    17713380     False                    True          Subscribed   \n",
       "4    17724228     False                   False          Subscribed   \n",
       "\n",
       "   left_trustpilot_review  minutes_activity_last_7_days_mobile  \\\n",
       "0                   False                                    0   \n",
       "1                   False                                   35   \n",
       "2                   False                                    0   \n",
       "3                   False                                    2   \n",
       "4                   False                                    0   \n",
       "\n",
       "   minutes_activity_last_7_days_desktop  \\\n",
       "0                                     0   \n",
       "1                                     0   \n",
       "2                                     0   \n",
       "3                                     0   \n",
       "4                                     0   \n",
       "\n",
       "   minutes_activity_last_7_days_all_devices google_analytics_medium  month  \\\n",
       "0                                         0                     cpc     11   \n",
       "1                                        35                     cpc     11   \n",
       "2                                         0                  (none)     12   \n",
       "3                                        13                     cpc     11   \n",
       "4                                         0                   email     12   \n",
       "\n",
       "   year  day_of_week  \n",
       "0  2020            0  \n",
       "1  2020            6  \n",
       "2  2020            5  \n",
       "3  2020            0  \n",
       "4  2020            6  "
      ]
     },
     "execution_count": 527,
     "metadata": {},
     "output_type": "execute_result"
    }
   ],
   "source": [
    "#Convert to datetime \n",
    "df['free_trial_signup_date'] = pd.to_datetime(df['free_trial_signup_date'], format=\"%Y-%m-%d\")\n",
    "df['month'] = df['free_trial_signup_date'].dt.month\n",
    "df['year'] = df['free_trial_signup_date'].dt.year\n",
    "df['day_of_week'] = df['free_trial_signup_date'].dt.dayofweek\n",
    "df = df.drop (columns=[\"free_trial_signup_date\"],axis=1)\n",
    "df.head()"
   ]
  },
  {
   "cell_type": "code",
   "execution_count": 528,
   "id": "df4dd32e",
   "metadata": {},
   "outputs": [
    {
     "name": "stdout",
     "output_type": "stream",
     "text": [
      "<class 'pandas.core.frame.DataFrame'>\n",
      "Int64Index: 5748 entries, 0 to 6086\n",
      "Data columns (total 12 columns):\n",
      " #   Column                                    Non-Null Count  Dtype \n",
      "---  ------                                    --------------  ----- \n",
      " 0   company_id                                5748 non-null   int64 \n",
      " 1   app_user                                  5748 non-null   bool  \n",
      " 2   ever_contacted_support                    5748 non-null   bool  \n",
      " 3   subscription_status                       5748 non-null   object\n",
      " 4   left_trustpilot_review                    5748 non-null   bool  \n",
      " 5   minutes_activity_last_7_days_mobile       5748 non-null   int64 \n",
      " 6   minutes_activity_last_7_days_desktop      5748 non-null   int64 \n",
      " 7   minutes_activity_last_7_days_all_devices  5748 non-null   int64 \n",
      " 8   google_analytics_medium                   5748 non-null   object\n",
      " 9   month                                     5748 non-null   int64 \n",
      " 10  year                                      5748 non-null   int64 \n",
      " 11  day_of_week                               5748 non-null   int64 \n",
      "dtypes: bool(3), int64(7), object(2)\n",
      "memory usage: 465.9+ KB\n"
     ]
    }
   ],
   "source": [
    "df.info()"
   ]
  },
  {
   "cell_type": "code",
   "execution_count": 529,
   "id": "694908f5",
   "metadata": {},
   "outputs": [],
   "source": [
    "#convert true/false to 1.0\n",
    "df[\"app_user\"] = df[\"app_user\"].astype(int)\n",
    "df[\"ever_contacted_support\"] =df[\"ever_contacted_support\"].astype(int)\n",
    "df[\"left_trustpilot_review\"] =df[\"left_trustpilot_review\"].astype(int)\n",
    "#convert id to string value\n",
    "df[\"company_id\"] =df[\"company_id\"].astype(str)\n",
    "#rename\n",
    "df[\"subscription_status\"] =df[\"subscription_status\"] .replace(\"Subscribed\",1,regex=True).replace(\"Cancelled\",0,regex=True)\n"
   ]
  },
  {
   "cell_type": "code",
   "execution_count": 530,
   "id": "b77e6329",
   "metadata": {},
   "outputs": [
    {
     "data": {
      "text/html": [
       "<div>\n",
       "<style scoped>\n",
       "    .dataframe tbody tr th:only-of-type {\n",
       "        vertical-align: middle;\n",
       "    }\n",
       "\n",
       "    .dataframe tbody tr th {\n",
       "        vertical-align: top;\n",
       "    }\n",
       "\n",
       "    .dataframe thead th {\n",
       "        text-align: right;\n",
       "    }\n",
       "</style>\n",
       "<table border=\"1\" class=\"dataframe\">\n",
       "  <thead>\n",
       "    <tr style=\"text-align: right;\">\n",
       "      <th></th>\n",
       "      <th>company_id</th>\n",
       "      <th>app_user</th>\n",
       "      <th>ever_contacted_support</th>\n",
       "      <th>subscription_status</th>\n",
       "      <th>left_trustpilot_review</th>\n",
       "      <th>minutes_activity_last_7_days_mobile</th>\n",
       "      <th>minutes_activity_last_7_days_desktop</th>\n",
       "      <th>minutes_activity_last_7_days_all_devices</th>\n",
       "      <th>google_analytics_medium</th>\n",
       "      <th>month</th>\n",
       "      <th>year</th>\n",
       "      <th>day_of_week</th>\n",
       "    </tr>\n",
       "  </thead>\n",
       "  <tbody>\n",
       "    <tr>\n",
       "      <th>0</th>\n",
       "      <td>17711836</td>\n",
       "      <td>1</td>\n",
       "      <td>1</td>\n",
       "      <td>1</td>\n",
       "      <td>0</td>\n",
       "      <td>0</td>\n",
       "      <td>0</td>\n",
       "      <td>0</td>\n",
       "      <td>cpc</td>\n",
       "      <td>11</td>\n",
       "      <td>2020</td>\n",
       "      <td>0</td>\n",
       "    </tr>\n",
       "    <tr>\n",
       "      <th>1</th>\n",
       "      <td>17712950</td>\n",
       "      <td>1</td>\n",
       "      <td>1</td>\n",
       "      <td>1</td>\n",
       "      <td>0</td>\n",
       "      <td>35</td>\n",
       "      <td>0</td>\n",
       "      <td>35</td>\n",
       "      <td>cpc</td>\n",
       "      <td>11</td>\n",
       "      <td>2020</td>\n",
       "      <td>6</td>\n",
       "    </tr>\n",
       "    <tr>\n",
       "      <th>2</th>\n",
       "      <td>17723760</td>\n",
       "      <td>0</td>\n",
       "      <td>1</td>\n",
       "      <td>1</td>\n",
       "      <td>0</td>\n",
       "      <td>0</td>\n",
       "      <td>0</td>\n",
       "      <td>0</td>\n",
       "      <td>(none)</td>\n",
       "      <td>12</td>\n",
       "      <td>2020</td>\n",
       "      <td>5</td>\n",
       "    </tr>\n",
       "    <tr>\n",
       "      <th>3</th>\n",
       "      <td>17713380</td>\n",
       "      <td>0</td>\n",
       "      <td>1</td>\n",
       "      <td>1</td>\n",
       "      <td>0</td>\n",
       "      <td>2</td>\n",
       "      <td>0</td>\n",
       "      <td>13</td>\n",
       "      <td>cpc</td>\n",
       "      <td>11</td>\n",
       "      <td>2020</td>\n",
       "      <td>0</td>\n",
       "    </tr>\n",
       "    <tr>\n",
       "      <th>4</th>\n",
       "      <td>17724228</td>\n",
       "      <td>0</td>\n",
       "      <td>0</td>\n",
       "      <td>1</td>\n",
       "      <td>0</td>\n",
       "      <td>0</td>\n",
       "      <td>0</td>\n",
       "      <td>0</td>\n",
       "      <td>email</td>\n",
       "      <td>12</td>\n",
       "      <td>2020</td>\n",
       "      <td>6</td>\n",
       "    </tr>\n",
       "  </tbody>\n",
       "</table>\n",
       "</div>"
      ],
      "text/plain": [
       "  company_id  app_user  ever_contacted_support  subscription_status  \\\n",
       "0   17711836         1                       1                    1   \n",
       "1   17712950         1                       1                    1   \n",
       "2   17723760         0                       1                    1   \n",
       "3   17713380         0                       1                    1   \n",
       "4   17724228         0                       0                    1   \n",
       "\n",
       "   left_trustpilot_review  minutes_activity_last_7_days_mobile  \\\n",
       "0                       0                                    0   \n",
       "1                       0                                   35   \n",
       "2                       0                                    0   \n",
       "3                       0                                    2   \n",
       "4                       0                                    0   \n",
       "\n",
       "   minutes_activity_last_7_days_desktop  \\\n",
       "0                                     0   \n",
       "1                                     0   \n",
       "2                                     0   \n",
       "3                                     0   \n",
       "4                                     0   \n",
       "\n",
       "   minutes_activity_last_7_days_all_devices google_analytics_medium  month  \\\n",
       "0                                         0                     cpc     11   \n",
       "1                                        35                     cpc     11   \n",
       "2                                         0                  (none)     12   \n",
       "3                                        13                     cpc     11   \n",
       "4                                         0                   email     12   \n",
       "\n",
       "   year  day_of_week  \n",
       "0  2020            0  \n",
       "1  2020            6  \n",
       "2  2020            5  \n",
       "3  2020            0  \n",
       "4  2020            6  "
      ]
     },
     "execution_count": 530,
     "metadata": {},
     "output_type": "execute_result"
    }
   ],
   "source": [
    "df.head()"
   ]
  },
  {
   "cell_type": "markdown",
   "id": "415d39de",
   "metadata": {},
   "source": [
    "# train-test split"
   ]
  },
  {
   "cell_type": "code",
   "execution_count": 531,
   "id": "81e351bb",
   "metadata": {},
   "outputs": [],
   "source": [
    "def evaluate_on_test(model, y_test, X_test):\n",
    "    yhat = model.predict(X_test)\n",
    "    print(classification_report(y_test, yhat))"
   ]
  },
  {
   "cell_type": "code",
   "execution_count": 532,
   "id": "0702a368",
   "metadata": {},
   "outputs": [
    {
     "name": "stdout",
     "output_type": "stream",
     "text": [
      "4598 train and 1150 test instances\n"
     ]
    }
   ],
   "source": [
    "#train-test-split \n",
    "from sklearn.model_selection import StratifiedShuffleSplit\n",
    "\n",
    "stratified_splitter = StratifiedShuffleSplit(n_splits=1, test_size=0.2, train_size=0.8, random_state=2022)\n",
    "\n",
    "train_index, test_index = list(stratified_splitter.split(df, df[\"subscription_status\"]))[0]\n",
    "trainset = df.iloc[train_index]\n",
    "testset = df.iloc[test_index]\n",
    "\n",
    "# verify the dimensions of the datasets\n",
    "print(f\"{trainset.shape[0]} train and {testset.shape[0]} test instances\")\n"
   ]
  },
  {
   "cell_type": "markdown",
   "id": "bb7b2260",
   "metadata": {},
   "source": [
    "# stratified sampling "
   ]
  },
  {
   "cell_type": "code",
   "execution_count": 533,
   "id": "ae7ef1e1",
   "metadata": {},
   "outputs": [
    {
     "data": {
      "text/html": [
       "<div>\n",
       "<style scoped>\n",
       "    .dataframe tbody tr th:only-of-type {\n",
       "        vertical-align: middle;\n",
       "    }\n",
       "\n",
       "    .dataframe tbody tr th {\n",
       "        vertical-align: top;\n",
       "    }\n",
       "\n",
       "    .dataframe thead th {\n",
       "        text-align: right;\n",
       "    }\n",
       "</style>\n",
       "<table border=\"1\" class=\"dataframe\">\n",
       "  <thead>\n",
       "    <tr style=\"text-align: right;\">\n",
       "      <th></th>\n",
       "      <th>Overall</th>\n",
       "      <th>Random test set</th>\n",
       "      <th>Stratified test set</th>\n",
       "      <th>Rand. %error</th>\n",
       "      <th>Strat. %error</th>\n",
       "    </tr>\n",
       "  </thead>\n",
       "  <tbody>\n",
       "    <tr>\n",
       "      <th>0</th>\n",
       "      <td>0.264788</td>\n",
       "      <td>0.251304</td>\n",
       "      <td>0.265217</td>\n",
       "      <td>-5.092156</td>\n",
       "      <td>0.162258</td>\n",
       "    </tr>\n",
       "    <tr>\n",
       "      <th>1</th>\n",
       "      <td>0.735212</td>\n",
       "      <td>0.748696</td>\n",
       "      <td>0.734783</td>\n",
       "      <td>1.833947</td>\n",
       "      <td>-0.058437</td>\n",
       "    </tr>\n",
       "  </tbody>\n",
       "</table>\n",
       "</div>"
      ],
      "text/plain": [
       "    Overall  Random test set  Stratified test set  Rand. %error  Strat. %error\n",
       "0  0.264788         0.251304             0.265217     -5.092156       0.162258\n",
       "1  0.735212         0.748696             0.734783      1.833947      -0.058437"
      ]
     },
     "execution_count": 533,
     "metadata": {},
     "output_type": "execute_result"
    }
   ],
   "source": [
    "def subscription_proportions(data):\n",
    "    return data[\"subscription_status\"].value_counts() / len(data)\n",
    "\n",
    "# create a random split\n",
    "rand_train_set, rand_test_set = train_test_split(df, test_size=0.2, random_state=7)\n",
    "\n",
    "# create a temporary dataframe for easy visualization\n",
    "df_tmp = pd.DataFrame({\n",
    "    \"Overall\": subscription_proportions(df),\n",
    "    \"Random test set\": subscription_proportions(rand_test_set),\n",
    "    \"Stratified test set\": subscription_proportions(testset),\n",
    "}).sort_index()\n",
    "\n",
    "# add two columns for the percent of the difference to the overall proportion\n",
    "df_tmp[\"Rand. %error\"] = 100 * df_tmp[\"Random test set\"] / df_tmp[\"Overall\"] - 100\n",
    "df_tmp[\"Strat. %error\"] = 100 * df_tmp[\"Stratified test set\"] / df_tmp[\"Overall\"] - 100\n",
    "\n",
    "df_tmp"
   ]
  },
  {
   "cell_type": "markdown",
   "id": "736931b5",
   "metadata": {},
   "source": [
    "# handling outliers "
   ]
  },
  {
   "cell_type": "code",
   "execution_count": 495,
   "id": "e5b25e6f",
   "metadata": {},
   "outputs": [
    {
     "name": "stdout",
     "output_type": "stream",
     "text": [
      "0 Outliers are Identified.\n"
     ]
    }
   ],
   "source": [
    "#Outliers \n",
    "from sklearn.base import TransformerMixin, BaseEstimator\n",
    "class OutlierTransformer(TransformerMixin, BaseEstimator):\n",
    "    def __init__(self):\n",
    "        self.fitted = False\n",
    "        return None\n",
    "    def fit(self, X):\n",
    "        #Select and handle outliers for only the columns containing numerical variables\n",
    "        numerics = ['int16', 'int32', 'int64', 'float16', 'float32', 'float64']\n",
    "        numeric_X = X.select_dtypes(include=numerics)\n",
    "        # Get Quantiles and IQR\n",
    "        self.quantiles = pd.DataFrame(numeric_X.quantile([0.25, 0.75]))\n",
    "        self.quantiles.loc['IQR',:] = self.quantiles.loc[0.75,:] - self.quantiles.loc[0.25,:]\n",
    "        #Calculate Upper and Lower Bounds\n",
    "        #These bounds are calculated on the Train Dataset, then applied to the train and test datasets\n",
    "        self.quantiles.loc['Lower_Bound',:] = self.quantiles.loc[0.25,:] - 1.5 * self.quantiles.loc['IQR',:]\n",
    "        self.quantiles.loc['Upper_Bound',:] = self.quantiles.loc[0.75,:] + 1.5 * self.quantiles.loc['IQR',:]\n",
    "        #Save fitting status\n",
    "        self.fitted = True\n",
    "        return self\n",
    "    def transform(self, X):\n",
    "        if self.fitted == False:\n",
    "            print('The transformer must be fitted before transformation.')\n",
    "            return None\n",
    "        #Make a copy of X to avoid mutating X\n",
    "        X_copy = X.copy()\n",
    "        #Old number of NaNs to count number of outliers\n",
    "        old_num_na = sum(X_copy.isna().sum())\n",
    "        for col in self.quantiles.columns:\n",
    "            #Fill Beyond Lower Bound\n",
    "            X_copy.loc[X_copy.loc[:,col] < self.quantiles.loc['Lower_Bound',col],col] = np.NaN\n",
    "            #Fill Beyond Upper Bound\n",
    "            X_copy.loc[X_copy.loc[:,col] > self.quantiles.loc['Upper_Bound',col],col] = np.NaN\n",
    "            #Print Number of Outliers\n",
    "            print(str(sum(X_copy.isna().sum()) - old_num_na) + ' Outliers are Identified.')\n",
    "            return X_copy\n",
    "# the above function is called then fitted on the train dataframe\n",
    "# and transforms the train dataframe\n",
    "outlier_transformer = OutlierTransformer()\n",
    "trainset = outlier_transformer.fit_transform(trainset)\n",
    "# All the outliers were transformed as NaN"
   ]
  },
  {
   "cell_type": "code",
   "execution_count": 413,
   "id": "72b083f6",
   "metadata": {},
   "outputs": [
    {
     "name": "stdout",
     "output_type": "stream",
     "text": [
      "0 Outliers are Identified.\n"
     ]
    }
   ],
   "source": [
    "testset = outlier_transformer.transform(testset)"
   ]
  },
  {
   "cell_type": "code",
   "execution_count": 534,
   "id": "7b96b568",
   "metadata": {},
   "outputs": [],
   "source": [
    "# drop accident index column as we no longer need it\n",
    "trainset.drop('company_id', axis=1, inplace=True)\n",
    "testset.drop('company_id', axis=1, inplace=True)"
   ]
  },
  {
   "cell_type": "markdown",
   "id": "544b1eb0",
   "metadata": {},
   "source": [
    "Since we don't have any missing values in any independent variables, we don't need to imput values. Missing values in the target has been removed. "
   ]
  },
  {
   "cell_type": "markdown",
   "id": "cac7772d",
   "metadata": {},
   "source": [
    "# Encoding dummy variables"
   ]
  },
  {
   "cell_type": "code",
   "execution_count": 535,
   "id": "56b46ac9",
   "metadata": {},
   "outputs": [
    {
     "data": {
      "text/html": [
       "<div>\n",
       "<style scoped>\n",
       "    .dataframe tbody tr th:only-of-type {\n",
       "        vertical-align: middle;\n",
       "    }\n",
       "\n",
       "    .dataframe tbody tr th {\n",
       "        vertical-align: top;\n",
       "    }\n",
       "\n",
       "    .dataframe thead th {\n",
       "        text-align: right;\n",
       "    }\n",
       "</style>\n",
       "<table border=\"1\" class=\"dataframe\">\n",
       "  <thead>\n",
       "    <tr style=\"text-align: right;\">\n",
       "      <th></th>\n",
       "      <th>app_user</th>\n",
       "      <th>ever_contacted_support</th>\n",
       "      <th>subscription_status</th>\n",
       "      <th>left_trustpilot_review</th>\n",
       "      <th>minutes_activity_last_7_days_mobile</th>\n",
       "      <th>minutes_activity_last_7_days_desktop</th>\n",
       "      <th>minutes_activity_last_7_days_all_devices</th>\n",
       "      <th>google_analytics_medium</th>\n",
       "      <th>month</th>\n",
       "      <th>year</th>\n",
       "      <th>day_of_week</th>\n",
       "      <th>cpc</th>\n",
       "      <th>email</th>\n",
       "      <th>organic</th>\n",
       "      <th>social</th>\n",
       "    </tr>\n",
       "  </thead>\n",
       "  <tbody>\n",
       "    <tr>\n",
       "      <th>1650</th>\n",
       "      <td>0</td>\n",
       "      <td>0</td>\n",
       "      <td>0</td>\n",
       "      <td>0</td>\n",
       "      <td>0</td>\n",
       "      <td>0</td>\n",
       "      <td>0</td>\n",
       "      <td>(none)</td>\n",
       "      <td>1</td>\n",
       "      <td>2021</td>\n",
       "      <td>5</td>\n",
       "      <td>0.0</td>\n",
       "      <td>0.0</td>\n",
       "      <td>0.0</td>\n",
       "      <td>0.0</td>\n",
       "    </tr>\n",
       "    <tr>\n",
       "      <th>2040</th>\n",
       "      <td>1</td>\n",
       "      <td>1</td>\n",
       "      <td>1</td>\n",
       "      <td>1</td>\n",
       "      <td>0</td>\n",
       "      <td>0</td>\n",
       "      <td>0</td>\n",
       "      <td>organic</td>\n",
       "      <td>9</td>\n",
       "      <td>2020</td>\n",
       "      <td>4</td>\n",
       "      <td>0.0</td>\n",
       "      <td>0.0</td>\n",
       "      <td>1.0</td>\n",
       "      <td>0.0</td>\n",
       "    </tr>\n",
       "    <tr>\n",
       "      <th>4619</th>\n",
       "      <td>0</td>\n",
       "      <td>0</td>\n",
       "      <td>1</td>\n",
       "      <td>0</td>\n",
       "      <td>0</td>\n",
       "      <td>0</td>\n",
       "      <td>0</td>\n",
       "      <td>organic</td>\n",
       "      <td>12</td>\n",
       "      <td>2019</td>\n",
       "      <td>6</td>\n",
       "      <td>0.0</td>\n",
       "      <td>0.0</td>\n",
       "      <td>1.0</td>\n",
       "      <td>0.0</td>\n",
       "    </tr>\n",
       "    <tr>\n",
       "      <th>3382</th>\n",
       "      <td>0</td>\n",
       "      <td>1</td>\n",
       "      <td>1</td>\n",
       "      <td>0</td>\n",
       "      <td>0</td>\n",
       "      <td>0</td>\n",
       "      <td>1</td>\n",
       "      <td>organic</td>\n",
       "      <td>12</td>\n",
       "      <td>2019</td>\n",
       "      <td>2</td>\n",
       "      <td>0.0</td>\n",
       "      <td>0.0</td>\n",
       "      <td>1.0</td>\n",
       "      <td>0.0</td>\n",
       "    </tr>\n",
       "    <tr>\n",
       "      <th>54</th>\n",
       "      <td>1</td>\n",
       "      <td>0</td>\n",
       "      <td>0</td>\n",
       "      <td>1</td>\n",
       "      <td>0</td>\n",
       "      <td>0</td>\n",
       "      <td>0</td>\n",
       "      <td>(none)</td>\n",
       "      <td>12</td>\n",
       "      <td>2020</td>\n",
       "      <td>2</td>\n",
       "      <td>0.0</td>\n",
       "      <td>0.0</td>\n",
       "      <td>0.0</td>\n",
       "      <td>0.0</td>\n",
       "    </tr>\n",
       "  </tbody>\n",
       "</table>\n",
       "</div>"
      ],
      "text/plain": [
       "      app_user  ever_contacted_support  subscription_status  \\\n",
       "1650         0                       0                    0   \n",
       "2040         1                       1                    1   \n",
       "4619         0                       0                    1   \n",
       "3382         0                       1                    1   \n",
       "54           1                       0                    0   \n",
       "\n",
       "      left_trustpilot_review  minutes_activity_last_7_days_mobile  \\\n",
       "1650                       0                                    0   \n",
       "2040                       1                                    0   \n",
       "4619                       0                                    0   \n",
       "3382                       0                                    0   \n",
       "54                         1                                    0   \n",
       "\n",
       "      minutes_activity_last_7_days_desktop  \\\n",
       "1650                                     0   \n",
       "2040                                     0   \n",
       "4619                                     0   \n",
       "3382                                     0   \n",
       "54                                       0   \n",
       "\n",
       "      minutes_activity_last_7_days_all_devices google_analytics_medium  month  \\\n",
       "1650                                         0                  (none)      1   \n",
       "2040                                         0                 organic      9   \n",
       "4619                                         0                 organic     12   \n",
       "3382                                         1                 organic     12   \n",
       "54                                           0                  (none)     12   \n",
       "\n",
       "      year  day_of_week  cpc  email  organic  social  \n",
       "1650  2021            5  0.0    0.0      0.0     0.0  \n",
       "2040  2020            4  0.0    0.0      1.0     0.0  \n",
       "4619  2019            6  0.0    0.0      1.0     0.0  \n",
       "3382  2019            2  0.0    0.0      1.0     0.0  \n",
       "54    2020            2  0.0    0.0      0.0     0.0  "
      ]
     },
     "execution_count": 535,
     "metadata": {},
     "output_type": "execute_result"
    }
   ],
   "source": [
    "#encoding dummy variables \n",
    "from sklearn.preprocessing import OneHotEncoder\n",
    "\n",
    "\n",
    "def get_dummies(trainset, testset, old_col_name):\n",
    "    \"\"\"Given a trainset, a testset, and the name of a column holding a \n",
    "    categorical variable, fit an encoder on the trainset, and use the \n",
    "    encoder to add dummy columns into the trainset and testset\n",
    "    \"\"\"\n",
    "    \n",
    "    one_hot_encoder = OneHotEncoder(drop=\"first\", sparse=False)\n",
    "    \n",
    "    # the input to the encoder must be a 2-d numpy array,\n",
    "    # so we take the column, extract their values and reshape the array to be 2-d\n",
    "    cat_vals = trainset[old_col_name].values.reshape(-1,1)\n",
    "\n",
    "    # fit an encoder and transform the **trainset**\n",
    "    # the output is a new numpy array\n",
    "    transformed = one_hot_encoder.fit_transform(cat_vals)\n",
    "    \n",
    "    # in the list of new columns, convert numpy array to a list and\n",
    "    # drop the first column, because we requested \"drop='first'\"\n",
    "    new_col_names = one_hot_encoder.categories_[0].tolist()[1:]\n",
    "    \n",
    "    for i, new_col_name in enumerate(new_col_names):\n",
    "        \n",
    "        # put the transformed data as columns in the trainset dataframe\n",
    "        trainset[new_col_name] = transformed[:,i]\n",
    "    \n",
    "    # transform the **testset** using the fitted encoder\n",
    "    \n",
    "    cat_vals = testset[old_col_name].values.reshape(-1,1)\n",
    "    transformed = one_hot_encoder.transform(cat_vals)\n",
    "\n",
    "    for i, new_col_name in enumerate(new_col_names):\n",
    "        \n",
    "        # put the transformed data as columns in the testset dataframe\n",
    "        testset[new_col_name] = transformed[:,i]\n",
    "    \n",
    "    return trainset, testset\n",
    "\n",
    "\n",
    "for col_name in ['google_analytics_medium']:\n",
    "    trainset, testset = get_dummies(trainset, testset, col_name)\n",
    "\n",
    "# check if the dummies are produced correctly in the trainset\n",
    "trainset.head()\n"
   ]
  },
  {
   "cell_type": "code",
   "execution_count": 536,
   "id": "4f6f1aaf",
   "metadata": {},
   "outputs": [
    {
     "data": {
      "text/html": [
       "<div>\n",
       "<style scoped>\n",
       "    .dataframe tbody tr th:only-of-type {\n",
       "        vertical-align: middle;\n",
       "    }\n",
       "\n",
       "    .dataframe tbody tr th {\n",
       "        vertical-align: top;\n",
       "    }\n",
       "\n",
       "    .dataframe thead th {\n",
       "        text-align: right;\n",
       "    }\n",
       "</style>\n",
       "<table border=\"1\" class=\"dataframe\">\n",
       "  <thead>\n",
       "    <tr style=\"text-align: right;\">\n",
       "      <th></th>\n",
       "      <th>app_user</th>\n",
       "      <th>ever_contacted_support</th>\n",
       "      <th>subscription_status</th>\n",
       "      <th>left_trustpilot_review</th>\n",
       "      <th>minutes_activity_last_7_days_mobile</th>\n",
       "      <th>minutes_activity_last_7_days_desktop</th>\n",
       "      <th>minutes_activity_last_7_days_all_devices</th>\n",
       "      <th>month</th>\n",
       "      <th>year</th>\n",
       "      <th>day_of_week</th>\n",
       "      <th>cpc</th>\n",
       "      <th>email</th>\n",
       "      <th>organic</th>\n",
       "      <th>social</th>\n",
       "    </tr>\n",
       "  </thead>\n",
       "  <tbody>\n",
       "    <tr>\n",
       "      <th>1650</th>\n",
       "      <td>0</td>\n",
       "      <td>0</td>\n",
       "      <td>0</td>\n",
       "      <td>0</td>\n",
       "      <td>0</td>\n",
       "      <td>0</td>\n",
       "      <td>0</td>\n",
       "      <td>1</td>\n",
       "      <td>2021</td>\n",
       "      <td>5</td>\n",
       "      <td>0.0</td>\n",
       "      <td>0.0</td>\n",
       "      <td>0.0</td>\n",
       "      <td>0.0</td>\n",
       "    </tr>\n",
       "    <tr>\n",
       "      <th>2040</th>\n",
       "      <td>1</td>\n",
       "      <td>1</td>\n",
       "      <td>1</td>\n",
       "      <td>1</td>\n",
       "      <td>0</td>\n",
       "      <td>0</td>\n",
       "      <td>0</td>\n",
       "      <td>9</td>\n",
       "      <td>2020</td>\n",
       "      <td>4</td>\n",
       "      <td>0.0</td>\n",
       "      <td>0.0</td>\n",
       "      <td>1.0</td>\n",
       "      <td>0.0</td>\n",
       "    </tr>\n",
       "    <tr>\n",
       "      <th>4619</th>\n",
       "      <td>0</td>\n",
       "      <td>0</td>\n",
       "      <td>1</td>\n",
       "      <td>0</td>\n",
       "      <td>0</td>\n",
       "      <td>0</td>\n",
       "      <td>0</td>\n",
       "      <td>12</td>\n",
       "      <td>2019</td>\n",
       "      <td>6</td>\n",
       "      <td>0.0</td>\n",
       "      <td>0.0</td>\n",
       "      <td>1.0</td>\n",
       "      <td>0.0</td>\n",
       "    </tr>\n",
       "    <tr>\n",
       "      <th>3382</th>\n",
       "      <td>0</td>\n",
       "      <td>1</td>\n",
       "      <td>1</td>\n",
       "      <td>0</td>\n",
       "      <td>0</td>\n",
       "      <td>0</td>\n",
       "      <td>1</td>\n",
       "      <td>12</td>\n",
       "      <td>2019</td>\n",
       "      <td>2</td>\n",
       "      <td>0.0</td>\n",
       "      <td>0.0</td>\n",
       "      <td>1.0</td>\n",
       "      <td>0.0</td>\n",
       "    </tr>\n",
       "    <tr>\n",
       "      <th>54</th>\n",
       "      <td>1</td>\n",
       "      <td>0</td>\n",
       "      <td>0</td>\n",
       "      <td>1</td>\n",
       "      <td>0</td>\n",
       "      <td>0</td>\n",
       "      <td>0</td>\n",
       "      <td>12</td>\n",
       "      <td>2020</td>\n",
       "      <td>2</td>\n",
       "      <td>0.0</td>\n",
       "      <td>0.0</td>\n",
       "      <td>0.0</td>\n",
       "      <td>0.0</td>\n",
       "    </tr>\n",
       "  </tbody>\n",
       "</table>\n",
       "</div>"
      ],
      "text/plain": [
       "      app_user  ever_contacted_support  subscription_status  \\\n",
       "1650         0                       0                    0   \n",
       "2040         1                       1                    1   \n",
       "4619         0                       0                    1   \n",
       "3382         0                       1                    1   \n",
       "54           1                       0                    0   \n",
       "\n",
       "      left_trustpilot_review  minutes_activity_last_7_days_mobile  \\\n",
       "1650                       0                                    0   \n",
       "2040                       1                                    0   \n",
       "4619                       0                                    0   \n",
       "3382                       0                                    0   \n",
       "54                         1                                    0   \n",
       "\n",
       "      minutes_activity_last_7_days_desktop  \\\n",
       "1650                                     0   \n",
       "2040                                     0   \n",
       "4619                                     0   \n",
       "3382                                     0   \n",
       "54                                       0   \n",
       "\n",
       "      minutes_activity_last_7_days_all_devices  month  year  day_of_week  cpc  \\\n",
       "1650                                         0      1  2021            5  0.0   \n",
       "2040                                         0      9  2020            4  0.0   \n",
       "4619                                         0     12  2019            6  0.0   \n",
       "3382                                         1     12  2019            2  0.0   \n",
       "54                                           0     12  2020            2  0.0   \n",
       "\n",
       "      email  organic  social  \n",
       "1650    0.0      0.0     0.0  \n",
       "2040    0.0      1.0     0.0  \n",
       "4619    0.0      1.0     0.0  \n",
       "3382    0.0      1.0     0.0  \n",
       "54      0.0      0.0     0.0  "
      ]
     },
     "execution_count": 536,
     "metadata": {},
     "output_type": "execute_result"
    }
   ],
   "source": [
    "# with our dummy variables in place, we can remove the labelled columns for the same categorical variables\n",
    "def dropfunc(data, column_list):\n",
    "    for column in data:\n",
    "        if column in column_list:\n",
    "            del data[column]\n",
    "\n",
    "column_list = ['google_analytics_medium'] \n",
    "\n",
    "dropfunc(trainset, column_list)\n",
    "dropfunc(testset, column_list)\n",
    "\n",
    "trainset.head()\n"
   ]
  },
  {
   "cell_type": "markdown",
   "id": "b9cbae4e",
   "metadata": {},
   "source": [
    "# feature scaling"
   ]
  },
  {
   "cell_type": "markdown",
   "id": "f4645f05",
   "metadata": {},
   "source": [
    "# Split x_train, x_test, y_train, y_test"
   ]
  },
  {
   "cell_type": "code",
   "execution_count": 537,
   "id": "2b13232e",
   "metadata": {},
   "outputs": [],
   "source": [
    "# drop labels for training set, but keep all others\n",
    "X_train = trainset.drop(\"subscription_status\", axis=1)\n",
    "X_test = testset.drop(\"subscription_status\", axis=1)\n",
    "\n",
    "y_train = trainset[\"subscription_status\"].copy()\n",
    "y_test = testset[\"subscription_status\"].copy()\n",
    "\n",
    "X_train = X_train.drop(columns=[\"minutes_activity_last_7_days_desktop\",\"minutes_activity_last_7_days_mobile\"],axis=1)\n",
    "X_test = X_test.drop(columns=[\"minutes_activity_last_7_days_desktop\",\"minutes_activity_last_7_days_mobile\"],axis=1)\n"
   ]
  },
  {
   "cell_type": "markdown",
   "id": "87621b9f",
   "metadata": {},
   "source": [
    "# feature selection"
   ]
  },
  {
   "cell_type": "code",
   "execution_count": 538,
   "id": "c42aa95b",
   "metadata": {},
   "outputs": [
    {
     "name": "stdout",
     "output_type": "stream",
     "text": [
      "('year', 0.8023430342993858)\n",
      "('ever_contacted_support', 0.0859414747401676)\n",
      "('month', 0.04962641490645874)\n",
      "('day_of_week', 0.030098270769350514)\n",
      "('minutes_activity_last_7_days_all_devices', 0.009815841840554462)\n",
      "('app_user', 0.006230144932730695)\n",
      "('organic', 0.005584211566112514)\n",
      "('left_trustpilot_review', 0.0032801265363527317)\n",
      "('cpc', 0.00320321202159528)\n",
      "('social', 0.002241167888247771)\n",
      "('email', 0.0016361004990438398)\n"
     ]
    }
   ],
   "source": [
    "from sklearn.tree import DecisionTreeRegressor\n",
    "\n",
    "model = DecisionTreeRegressor()\n",
    "# fit the model\n",
    "model.fit(X_train, y_train)\n",
    "# get importance\n",
    "importance = model.feature_importances_\n",
    "# summarize feature importance\n",
    "impList = zip(X_train.columns, importance)\n",
    "for feature in sorted(impList, key = lambda t: t[1], reverse=True):\n",
    "    print(feature)"
   ]
  },
  {
   "cell_type": "code",
   "execution_count": 539,
   "id": "f037328f",
   "metadata": {},
   "outputs": [
    {
     "name": "stdout",
     "output_type": "stream",
     "text": [
      "[0.00893574 0.40546853 0.00878347 0.01461033 0.08552164 0.25524025\n",
      " 0.02552415 0.01248791 0.02461548 0.15764153 0.00117099]\n"
     ]
    },
    {
     "data": {
      "image/png": "[encoded data removed]",
      "text/plain": [
       "<Figure size 432x288 with 1 Axes>"
      ]
     },
     "metadata": {
      "needs_background": "light"
     },
     "output_type": "display_data"
    }
   ],
   "source": [
    "from sklearn.ensemble import ExtraTreesClassifier\n",
    "import matplotlib.pyplot as plt\n",
    "model = ExtraTreesClassifier()\n",
    "model.fit(X_train,y_train)\n",
    "print(model.feature_importances_) #use inbuilt class feature_importances of tree based classifiers\n",
    "#plot graph of feature importances for better visualization\n",
    "feat_importances = pd.Series(model.feature_importances_, index=X_train.columns)\n",
    "feat_importances.nlargest(10).plot(kind='barh')\n",
    "plt.show()"
   ]
  },
  {
   "cell_type": "code",
   "execution_count": 540,
   "id": "432544b1",
   "metadata": {},
   "outputs": [],
   "source": [
    "#rename\n",
    "y_train =y_train.replace(1,\"Subscribed\",regex=True).replace(0,\"Cancelled\",regex=True)\n",
    "y_test =y_test.replace(1,\"Subscribed\",regex=True).replace(0,\"Cancelled\",regex=True)\n"
   ]
  },
  {
   "cell_type": "markdown",
   "id": "e5033769",
   "metadata": {},
   "source": [
    "# Baseline"
   ]
  },
  {
   "cell_type": "markdown",
   "id": "dd13d0bb",
   "metadata": {},
   "source": [
    "Calculate the F-score for the majority baseline (every class label is \"Subscribed\"):"
   ]
  },
  {
   "cell_type": "code",
   "execution_count": 541,
   "id": "288c3a61",
   "metadata": {},
   "outputs": [
    {
     "data": {
      "text/plain": [
       "1    3381\n",
       "0    1217\n",
       "Name: subscription_status, dtype: int64"
      ]
     },
     "execution_count": 541,
     "metadata": {},
     "output_type": "execute_result"
    }
   ],
   "source": [
    "trainset[\"subscription_status\"].value_counts()"
   ]
  },
  {
   "cell_type": "code",
   "execution_count": 542,
   "id": "c94dadb1",
   "metadata": {},
   "outputs": [],
   "source": [
    "n_subscribed = trainset[\"subscription_status\"].value_counts()[1]\n",
    "n_instances = trainset.shape[0]"
   ]
  },
  {
   "cell_type": "code",
   "execution_count": 543,
   "id": "94b7dd6a",
   "metadata": {},
   "outputs": [
    {
     "name": "stdout",
     "output_type": "stream",
     "text": [
      "Precision: 0.36766\n",
      "Recall: 0.5\n",
      "F-score: 0.42374\n"
     ]
    }
   ],
   "source": [
    "# For the \"Subscribed\" label, the accuracy measures will be:\n",
    "subscribed_precision = n_subscribed/n_instances\n",
    "subscribed_recall = n_subscribed/n_subscribed\n",
    "subscribed_fscore = 2/(1/subscribed_precision + 1/subscribed_recall)\n",
    "\n",
    "# For the \"cancelled\" label, it will be:\n",
    "cancelled_precision = 0.0\n",
    "cancelled_recall = 0.0\n",
    "cancelled_fscore = 0.0\n",
    "\n",
    "# The averages of the two classes, i.e. the eventual baseline scores:\n",
    "p = (subscribed_precision+cancelled_precision)/2\n",
    "r = (subscribed_recall+cancelled_recall)/2\n",
    "f = (subscribed_fscore+cancelled_fscore)/2\n",
    "\n",
    "print(f\"Precision: {p:.5}\")\n",
    "print(f\"Recall: {r:.5}\")\n",
    "print(f\"F-score: {f:.5}\")"
   ]
  },
  {
   "cell_type": "markdown",
   "id": "5492a715",
   "metadata": {},
   "source": [
    "# Build model"
   ]
  },
  {
   "cell_type": "code",
   "execution_count": 544,
   "id": "eb4a9aa6",
   "metadata": {},
   "outputs": [
    {
     "data": {
      "text/plain": [
       "GridSearchCV(cv=10, estimator=RandomForestClassifier(random_state=7),\n",
       "             param_grid=[{'max_depth': [5, None],\n",
       "                          'n_estimators': [100, 200, 500]}],\n",
       "             return_train_score=True, scoring='f1_macro')"
      ]
     },
     "execution_count": 544,
     "metadata": {},
     "output_type": "execute_result"
    }
   ],
   "source": [
    "from sklearn.model_selection import GridSearchCV\n",
    "from sklearn.ensemble import RandomForestClassifier\n",
    "\n",
    "# specify the hyperparameters and their values\n",
    "param_grid = [\n",
    "    {'n_estimators': [100, 200, 500],\n",
    "     'max_depth': [5, None]},\n",
    "]\n",
    "\n",
    "forest = RandomForestClassifier(random_state=7)\n",
    "\n",
    "rf_grid_search = GridSearchCV(forest, param_grid, cv=10, \n",
    "                              scoring='f1_macro',\n",
    "                              return_train_score=True)\n",
    "\n",
    "rf_grid_search.fit(X_train, y_train)"
   ]
  },
  {
   "cell_type": "code",
   "execution_count": 545,
   "id": "5de4527d",
   "metadata": {},
   "outputs": [
    {
     "data": {
      "text/plain": [
       "RandomForestClassifier(n_estimators=200, random_state=7)"
      ]
     },
     "execution_count": 545,
     "metadata": {},
     "output_type": "execute_result"
    }
   ],
   "source": [
    "# the best model\n",
    "rf_grid_search.best_estimator_"
   ]
  },
  {
   "cell_type": "code",
   "execution_count": 546,
   "id": "ff6e71b1",
   "metadata": {},
   "outputs": [
    {
     "data": {
      "text/plain": [
       "0.9659083109579913"
      ]
     },
     "execution_count": 546,
     "metadata": {},
     "output_type": "execute_result"
    }
   ],
   "source": [
    "rf_grid_search.best_score_"
   ]
  },
  {
   "cell_type": "code",
   "execution_count": 547,
   "id": "0cbdbef1",
   "metadata": {},
   "outputs": [
    {
     "data": {
      "text/html": [
       "<div>\n",
       "<style scoped>\n",
       "    .dataframe tbody tr th:only-of-type {\n",
       "        vertical-align: middle;\n",
       "    }\n",
       "\n",
       "    .dataframe tbody tr th {\n",
       "        vertical-align: top;\n",
       "    }\n",
       "\n",
       "    .dataframe thead th {\n",
       "        text-align: right;\n",
       "    }\n",
       "</style>\n",
       "<table border=\"1\" class=\"dataframe\">\n",
       "  <thead>\n",
       "    <tr style=\"text-align: right;\">\n",
       "      <th></th>\n",
       "      <th>params</th>\n",
       "      <th>mean_train_score</th>\n",
       "      <th>mean_test_score</th>\n",
       "      <th>diff, %</th>\n",
       "    </tr>\n",
       "  </thead>\n",
       "  <tbody>\n",
       "    <tr>\n",
       "      <th>4</th>\n",
       "      <td>{'max_depth': None, 'n_estimators': 200}</td>\n",
       "      <td>0.981694</td>\n",
       "      <td>0.965908</td>\n",
       "      <td>1.608030</td>\n",
       "    </tr>\n",
       "    <tr>\n",
       "      <th>5</th>\n",
       "      <td>{'max_depth': None, 'n_estimators': 500}</td>\n",
       "      <td>0.981697</td>\n",
       "      <td>0.965305</td>\n",
       "      <td>1.669735</td>\n",
       "    </tr>\n",
       "    <tr>\n",
       "      <th>3</th>\n",
       "      <td>{'max_depth': None, 'n_estimators': 100}</td>\n",
       "      <td>0.981697</td>\n",
       "      <td>0.965076</td>\n",
       "      <td>1.693112</td>\n",
       "    </tr>\n",
       "    <tr>\n",
       "      <th>0</th>\n",
       "      <td>{'max_depth': 5, 'n_estimators': 100}</td>\n",
       "      <td>0.963929</td>\n",
       "      <td>0.962546</td>\n",
       "      <td>0.143518</td>\n",
       "    </tr>\n",
       "    <tr>\n",
       "      <th>1</th>\n",
       "      <td>{'max_depth': 5, 'n_estimators': 200}</td>\n",
       "      <td>0.964726</td>\n",
       "      <td>0.961758</td>\n",
       "      <td>0.307602</td>\n",
       "    </tr>\n",
       "    <tr>\n",
       "      <th>2</th>\n",
       "      <td>{'max_depth': 5, 'n_estimators': 500}</td>\n",
       "      <td>0.963631</td>\n",
       "      <td>0.961161</td>\n",
       "      <td>0.256360</td>\n",
       "    </tr>\n",
       "  </tbody>\n",
       "</table>\n",
       "</div>"
      ],
      "text/plain": [
       "                                     params  mean_train_score  \\\n",
       "4  {'max_depth': None, 'n_estimators': 200}          0.981694   \n",
       "5  {'max_depth': None, 'n_estimators': 500}          0.981697   \n",
       "3  {'max_depth': None, 'n_estimators': 100}          0.981697   \n",
       "0     {'max_depth': 5, 'n_estimators': 100}          0.963929   \n",
       "1     {'max_depth': 5, 'n_estimators': 200}          0.964726   \n",
       "2     {'max_depth': 5, 'n_estimators': 500}          0.963631   \n",
       "\n",
       "   mean_test_score   diff, %  \n",
       "4         0.965908  1.608030  \n",
       "5         0.965305  1.669735  \n",
       "3         0.965076  1.693112  \n",
       "0         0.962546  0.143518  \n",
       "1         0.961758  0.307602  \n",
       "2         0.961161  0.256360  "
      ]
     },
     "execution_count": 547,
     "metadata": {},
     "output_type": "execute_result"
    }
   ],
   "source": [
    "# training and validation RMSE\n",
    "\n",
    "cv_results = pd.DataFrame(rf_grid_search.cv_results_\n",
    "                         )[['params', 'mean_train_score', 'mean_test_score']]\n",
    "cv_results[\"diff, %\"] = 100*(cv_results[\"mean_train_score\"]-cv_results[\"mean_test_score\"]\n",
    "                                                     )/cv_results[\"mean_train_score\"]\n",
    "\n",
    "pd.set_option('display.max_colwidth', 100)\n",
    "cv_results.sort_values('mean_test_score', ascending=False)"
   ]
  },
  {
   "cell_type": "code",
   "execution_count": 509,
   "id": "e920cee4",
   "metadata": {},
   "outputs": [
    {
     "data": {
      "text/plain": [
       "RandomForestClassifier(n_estimators=200)"
      ]
     },
     "execution_count": 509,
     "metadata": {},
     "output_type": "execute_result"
    }
   ],
   "source": [
    "#weight of important features\n",
    "from sklearn.ensemble import RandomForestClassifier\n",
    "\n",
    "#Create a Gaussian Classifier\n",
    "clf=RandomForestClassifier(n_estimators=200)\n",
    "\n",
    "#Train the model using the training sets y_pred=clf.predict(X_test)\n",
    "clf.fit(X_train,y_train)\n",
    "\n"
   ]
  },
  {
   "cell_type": "code",
   "execution_count": 510,
   "id": "1f01f720",
   "metadata": {},
   "outputs": [
    {
     "data": {
      "text/plain": [
       "year                                        0.321397\n",
       "ever_contacted_support                      0.285080\n",
       "month                                       0.194452\n",
       "organic                                     0.103240\n",
       "day_of_week                                 0.030391\n",
       "email                                       0.020023\n",
       "minutes_activity_last_7_days_all_devices    0.015135\n",
       "cpc                                         0.011781\n",
       "left_trustpilot_review                      0.008980\n",
       "app_user                                    0.008116\n",
       "social                                      0.001406\n",
       "dtype: float64"
      ]
     },
     "execution_count": 510,
     "metadata": {},
     "output_type": "execute_result"
    }
   ],
   "source": [
    "feature_scores = pd.Series(clf.feature_importances_, index=X_train.columns).sort_values(ascending=False)\n",
    "feature_scores"
   ]
  },
  {
   "cell_type": "code",
   "execution_count": 548,
   "id": "9576ca03",
   "metadata": {},
   "outputs": [
    {
     "data": {
      "text/plain": [
       "<sklearn.metrics._plot.confusion_matrix.ConfusionMatrixDisplay at 0x7fae203f7df0>"
      ]
     },
     "execution_count": 548,
     "metadata": {},
     "output_type": "execute_result"
    },
    {
     "data": {
      "image/png": "[encoded data removed]",
      "text/plain": [
       "<Figure size 432x288 with 2 Axes>"
      ]
     },
     "metadata": {
      "needs_background": "light"
     },
     "output_type": "display_data"
    }
   ],
   "source": [
    "#The confusion matrix on the training data:\n",
    "from sklearn.metrics import precision_recall_fscore_support, classification_report\n",
    "from sklearn.metrics import confusion_matrix, ConfusionMatrixDisplay\n",
    "from sklearn.model_selection import cross_val_predict\n",
    "# cross-validation confusion matrix, training data\n",
    "y_pred = cross_val_predict(rf_grid_search.best_estimator_, X_train, y_train, cv=10)\n",
    "conf_mat = confusion_matrix(y_train, y_pred, normalize=\"true\")\n",
    "ConfusionMatrixDisplay(confusion_matrix=conf_mat,\n",
    "                       display_labels=rf_grid_search.best_estimator_.classes_\n",
    "                      ).plot(cmap=plt.cm.Blues)"
   ]
  },
  {
   "cell_type": "code",
   "execution_count": 428,
   "id": "2351aa1e",
   "metadata": {},
   "outputs": [
    {
     "data": {
      "text/plain": [
       "<sklearn.metrics._plot.confusion_matrix.ConfusionMatrixDisplay at 0x7fadf3a36b20>"
      ]
     },
     "execution_count": 428,
     "metadata": {},
     "output_type": "execute_result"
    },
    {
     "data": {
      "image/png": "[encoded data removed]",
      "text/plain": [
       "<Figure size 432x288 with 2 Axes>"
      ]
     },
     "metadata": {
      "needs_background": "light"
     },
     "output_type": "display_data"
    }
   ],
   "source": [
    "import logging\n",
    "logging.basicConfig()\n",
    "logging.getLogger().setLevel(logging.ERROR)\n",
    "#The confusion matrix on the test data:\n",
    "ConfusionMatrixDisplay.from_estimator(rf_grid_search.best_estimator_, X_test, y_test,\n",
    "                                 display_labels=rf_grid_search.best_estimator_.classes_,\n",
    "                                 cmap=plt.cm.Blues,\n",
    "                                 normalize='true')"
   ]
  },
  {
   "cell_type": "code",
   "execution_count": 549,
   "id": "12679df9",
   "metadata": {},
   "outputs": [
    {
     "name": "stdout",
     "output_type": "stream",
     "text": [
      "              precision    recall  f1-score   support\n",
      "\n",
      "   Cancelled       0.94      0.95      0.94       305\n",
      "  Subscribed       0.98      0.98      0.98       845\n",
      "\n",
      "    accuracy                           0.97      1150\n",
      "   macro avg       0.96      0.96      0.96      1150\n",
      "weighted avg       0.97      0.97      0.97      1150\n",
      "\n"
     ]
    }
   ],
   "source": [
    "evaluate_on_test(rf_grid_search.best_estimator_, y_test, X_test)"
   ]
  },
  {
   "cell_type": "code",
   "execution_count": null,
   "id": "a29875bf",
   "metadata": {},
   "outputs": [],
   "source": []
  }
 ],
 "metadata": {
  "kernelspec": {
   "display_name": "Python 3",
   "language": "python",
   "name": "python3"
  },
  "language_info": {
   "codemirror_mode": {
    "name": "ipython",
    "version": 3
   },
   "file_extension": ".py",
   "mimetype": "text/x-python",
   "name": "python",
   "nbconvert_exporter": "python",
   "pygments_lexer": "ipython3",
   "version": "3.8.8"
  }
 },
 "nbformat": 4,
 "nbformat_minor": 5
}
